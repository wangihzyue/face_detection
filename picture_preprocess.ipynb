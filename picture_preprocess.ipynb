{
 "cells": [
  {
   "cell_type": "code",
   "execution_count": 4,
   "metadata": {
    "collapsed": true,
    "pycharm": {
     "name": "#%% useful package\n"
    }
   },
   "outputs": [],
   "source": [
    "import os\n",
    "import cv2\n",
    "import dlib\n",
    "import numpy as np"
   ]
  },
  {
   "cell_type": "code",
   "execution_count": 5,
   "outputs": [],
   "source": [
    "dataset_path = 'Dataset_1'\n",
    "X = []\n",
    "y = []\n",
    "for subject_name in os.listdir(dataset_path):\n",
    "\n",
    "    y.append(subject_name)\n",
    "    subject_images_dir = os.path.join(dataset_path, subject_name)\n",
    "\n",
    "    temp_x_list = []\n",
    "    for img_name in os.listdir(subject_images_dir):\n",
    "        # write code to read each 'img'\n",
    "        image_path = os.path.join(subject_images_dir, img_name)\n",
    "        img = cv2.imread(image_path)  # the shape is (480, 640, 3) -> print(img.shape)\n",
    "\n",
    "        # img to temp_x_list add the\n",
    "        if img is not None:\n",
    "            temp_x_list.append(img)\n",
    "    X.append(temp_x_list)  # list type, element is numpy, (50, 15, 480, 640, 3)"
   ],
   "metadata": {
    "collapsed": false,
    "pycharm": {
     "name": "#%% read raw pictures\n"
    }
   }
  },
  {
   "cell_type": "code",
   "execution_count": 6,
   "outputs": [],
   "source": [
    "nameIndex=0\n",
    "name = 0\n",
    "X_processed = []\n",
    "detector = dlib.get_frontal_face_detector()\n",
    "for x_list in X:  # x_list: (15, 480, 640, 3)\n",
    "    temp_X_processed = []\n",
    "    name = name + 1\n",
    "    folder_name = \"./unmaskedSet/\"+str(name)\n",
    "    folder = os.path.exists(folder_name)\n",
    "    if not folder:\n",
    "        os.makedirs(folder_name)\n",
    "    nameIndex = 0\n",
    "    for x in x_list:  # x: (480. 640, 3)\n",
    "        # convert the image (x) to grayscale\n",
    "        gray_img = cv2.cvtColor(x, cv2.COLOR_BGR2GRAY)\n",
    "        faces = detector(gray_img, 1)  # actually only one face in our dataset\n",
    "        # crop the image (x) to keep only the face, resize the cropped image to 150x150\n",
    "        left, top, right, bottom = 0, 0, 0, 0\n",
    "        for _, j in enumerate(faces):\n",
    "            left = j.left()\n",
    "            top = j.top()\n",
    "            right = j.right()\n",
    "            bottom = j.bottom()\n",
    "\n",
    "        img_crop = gray_img[top:bottom, left: right]  # crop\n",
    "        img_reshape = cv2.resize(img_crop, (150, 150))  # resize to (150, 150), type is numpy\n",
    "        picture_path = folder_name+\"/\"+str(nameIndex)+'.png'\n",
    "        nameIndex+=1\n",
    "        cv2.imwrite(picture_path,img_reshape)\n",
    "        # append the converted image into temp_X_processed\n",
    "        temp_X_processed.append(img_reshape)\n",
    "    # append temp_X_processed into  X_processed\n",
    "    X_processed.append(temp_X_processed)  # list type, element is numpy, (50, 15, 150, 150), faces"
   ],
   "metadata": {
    "collapsed": false,
    "pycharm": {
     "name": "#%% cut face part and resize to 150*150.\n"
    }
   }
  },
  {
   "cell_type": "code",
   "execution_count": 7,
   "outputs": [],
   "source": [
    "X_masked = []\n",
    "nameIndex = 0\n",
    "name = 0\n",
    "for x_list in X_processed:\n",
    "    temp_X_masked = []\n",
    "    name = name + 1\n",
    "    folder_name = \"./maskSet/\"+str(name)\n",
    "    folder = os.path.exists(folder_name)\n",
    "    if not folder:\n",
    "        os.makedirs(folder_name)\n",
    "    nameIndex = 0\n",
    "    for x in x_list:\n",
    "        # detect face in the image (x) using dlib facedetection library\n",
    "        detector = dlib.get_frontal_face_detector()\n",
    "        predictor = dlib.shape_predictor('shape_predictor_68_face_landmarks.dat')\n",
    "        faces = detector(x, 1)\n",
    "        for face in faces:\n",
    "            landmarks = predictor(x, face)\n",
    "        # add synthetic mask\n",
    "        points = []\n",
    "        for i in range(1, 16):\n",
    "            point = [landmarks.part(i).x, landmarks.part(i).y]\n",
    "            points.append(point)\n",
    "\n",
    "        mask_a = [[landmarks.part(42).x, landmarks.part(15).y],\n",
    "                  [landmarks.part(27).x, landmarks.part(27).y],\n",
    "                  [landmarks.part(39).x, landmarks.part(1).y]]\n",
    "        fin_mask = points + mask_a\n",
    "        fin_mask = np.array([fin_mask], dtype=np.int32)\n",
    "\n",
    "        img2 = cv2.polylines(x, fin_mask, True, 1, thickness=2, lineType=cv2.LINE_8)\n",
    "        img3 = cv2.fillPoly(img2, fin_mask, 1, lineType=cv2.LINE_AA)\n",
    "        # append the converted image into temp_X_masked\n",
    "        temp_X_masked.append(img3)\n",
    "        picture_path = folder_name+\"/\"+str(nameIndex)+'.png'\n",
    "        nameIndex+=1\n",
    "        cv2.imwrite(picture_path,img3)\n",
    "    # append temp_X_masked into  X_masked\n",
    "    X_masked.append(temp_X_masked)  # list type, element is numpy, (50, 15, 150, 150), face with mask"
   ],
   "metadata": {
    "collapsed": false,
    "pycharm": {
     "name": "#%% detect face point and add mask onto the picture.\n"
    }
   }
  }
 ],
 "metadata": {
  "kernelspec": {
   "display_name": "Python 3",
   "language": "python",
   "name": "python3"
  },
  "language_info": {
   "codemirror_mode": {
    "name": "ipython",
    "version": 2
   },
   "file_extension": ".py",
   "mimetype": "text/x-python",
   "name": "python",
   "nbconvert_exporter": "python",
   "pygments_lexer": "ipython2",
   "version": "2.7.6"
  }
 },
 "nbformat": 4,
 "nbformat_minor": 0
}